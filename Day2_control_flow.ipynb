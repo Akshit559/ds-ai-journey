{
 "cells": [
  {
   "cell_type": "code",
   "execution_count": 1,
   "id": "50d8c00a-7e3c-4c0d-9776-757e26c1789e",
   "metadata": {},
   "outputs": [
    {
     "name": "stdout",
     "output_type": "stream",
     "text": [
      "You are an adult\n"
     ]
    }
   ],
   "source": [
    "x = 18\n",
    "\n",
    "if x >= 18:\n",
    "    print(\"You are an adult\")\n",
    "else:\n",
    "    print(\"You are not an adult\")"
   ]
  },
  {
   "cell_type": "code",
   "execution_count": 3,
   "id": "0e90fa2d-c2f7-4562-8fc8-1259ccd871a9",
   "metadata": {},
   "outputs": [
    {
     "name": "stdout",
     "output_type": "stream",
     "text": [
      "Hello, Akshit!\n",
      "Square of 5: 25\n",
      "Cube of 3: 27\n"
     ]
    }
   ],
   "source": [
    "def greet(name):\n",
    "    return f\"Hello, {name}!\"\n",
    "\n",
    "print(greet(\"Akshit\"))\n",
    "\n",
    "# Function with default argument\n",
    "def power(base, exp=2):\n",
    "    return base ** exp\n",
    "\n",
    "print(\"Square of 5:\", power(5))\n",
    "print(\"Cube of 3:\", power(3, 3))"
   ]
  },
  {
   "cell_type": "code",
   "execution_count": 1,
   "id": "2a1bf602-5d29-47f4-9ea2-d4f5283eed18",
   "metadata": {},
   "outputs": [
    {
     "name": "stdout",
     "output_type": "stream",
     "text": [
      "name: Akshit\n",
      "age: 25\n",
      "city: Delhi\n"
     ]
    }
   ],
   "source": [
    "def show_details(**kwargs):\n",
    "    for key, value in kwargs.items():\n",
    "        print(f\"{key}: {value}\")\n",
    "\n",
    "show_details(name=\"Akshit\", age=25, city=\"Delhi\")"
   ]
  },
  {
   "cell_type": "code",
   "execution_count": 2,
   "id": "a81dea49-7596-456a-b26d-eefdcd588a3f",
   "metadata": {},
   "outputs": [
    {
     "name": "stdout",
     "output_type": "stream",
     "text": [
      "36\n"
     ]
    }
   ],
   "source": [
    "square = lambda x: x * x\n",
    "print(square(6))"
   ]
  },
  {
   "cell_type": "code",
   "execution_count": 3,
   "id": "ebf2704f-c620-412e-b877-0f88436ba233",
   "metadata": {},
   "outputs": [
    {
     "name": "stdout",
     "output_type": "stream",
     "text": [
      "[1, 4, 9, 16, 25]\n",
      "[2, 4]\n"
     ]
    }
   ],
   "source": [
    "numbers = [1, 2, 3, 4, 5]\n",
    "\n",
    "squares = list(map(lambda x: x**2, numbers))\n",
    "print(squares)   # [1, 4, 9, 16, 25]\n",
    "\n",
    "evens = list(filter(lambda x: x % 2 == 0, numbers))\n",
    "print(evens)     # [2, 4]"
   ]
  },
  {
   "cell_type": "code",
   "execution_count": null,
   "id": "849b2932-e69b-49b0-972e-5021c5a2b3fc",
   "metadata": {},
   "outputs": [],
   "source": []
  }
 ],
 "metadata": {
  "kernelspec": {
   "display_name": "Python 3 (ipykernel)",
   "language": "python",
   "name": "python3"
  },
  "language_info": {
   "codemirror_mode": {
    "name": "ipython",
    "version": 3
   },
   "file_extension": ".py",
   "mimetype": "text/x-python",
   "name": "python",
   "nbconvert_exporter": "python",
   "pygments_lexer": "ipython3",
   "version": "3.12.7"
  }
 },
 "nbformat": 4,
 "nbformat_minor": 5
}
