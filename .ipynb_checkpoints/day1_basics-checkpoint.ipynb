{
 "cells": [
  {
   "cell_type": "code",
   "execution_count": 1,
   "id": "9692f0d0-3c10-474f-9bf5-1da98dd21dc0",
   "metadata": {},
   "outputs": [
    {
     "name": "stdout",
     "output_type": "stream",
     "text": [
      "Hello Data Science 🚀\n"
     ]
    }
   ],
   "source": [
    "print(\"Hello Data Science 🚀\")"
   ]
  },
  {
   "cell_type": "code",
   "execution_count": 1,
   "id": "f7f65168-576e-450f-86e9-1613219e2fe6",
   "metadata": {},
   "outputs": [],
   "source": [
    "age= 27\n",
    "pi=3.14\n",
    "name=\"akshit\"\n",
    "is_student=True"
   ]
  },
  {
   "cell_type": "code",
   "execution_count": 2,
   "id": "ec92ab94-d592-4604-8fb8-5fa790be0d73",
   "metadata": {},
   "outputs": [
    {
     "name": "stdout",
     "output_type": "stream",
     "text": [
      "Age: 27\n"
     ]
    }
   ],
   "source": [
    "print(\"Age:\",age)"
   ]
  },
  {
   "cell_type": "code",
   "execution_count": 4,
   "id": "030da5f5-4359-4fa7-b0d8-6bbe49348ea2",
   "metadata": {},
   "outputs": [
    {
     "name": "stdout",
     "output_type": "stream",
     "text": [
      "Pi: 3.14\n",
      "name: akshit\n",
      "is Student? True\n"
     ]
    }
   ],
   "source": [
    "print(\"Pi:\", pi)\n",
    "print(\"name:\", name)\n",
    "print(\"is Student?\", is_student)"
   ]
  },
  {
   "cell_type": "code",
   "execution_count": 5,
   "id": "6b4fc8e9-32b6-4600-9a1c-db6020458281",
   "metadata": {},
   "outputs": [
    {
     "name": "stdout",
     "output_type": "stream",
     "text": [
      "List: [1, 2, 3, 4, 5]\n",
      "Tuple: (10.0, 20.0)\n",
      "Set: {1, 2, 3, 4}\n",
      "Dictionary: {'name': 'Akshit', 'age': 25}\n"
     ]
    }
   ],
   "source": [
    "# List\n",
    "numbers = [1, 2, 3, 4, 5]\n",
    "print(\"List:\", numbers)\n",
    "\n",
    "# Tuple\n",
    "coordinates = (10.0, 20.0)\n",
    "print(\"Tuple:\", coordinates)\n",
    "\n",
    "# Set\n",
    "unique_nums = {1, 2, 3, 3, 4}\n",
    "print(\"Set:\", unique_nums)\n",
    "\n",
    "# Dictionary\n",
    "person = {\"name\": \"Akshit\", \"age\": 25}\n",
    "print(\"Dictionary:\", person)"
   ]
  },
  {
   "cell_type": "code",
   "execution_count": 6,
   "id": "d4b60dd4-5501-4cbf-9bb4-c0a793beae23",
   "metadata": {},
   "outputs": [
    {
     "name": "stdout",
     "output_type": "stream",
     "text": [
      "Sum: 13\n",
      "Difference: 7\n",
      "Product: 30\n",
      "Division: 3.3333333333333335\n",
      "Floor Division: 3\n",
      "Power: 1000\n",
      "Modulus: 1\n"
     ]
    }
   ],
   "source": [
    "a, b = 10, 3\n",
    "\n",
    "print(\"Sum:\", a + b)\n",
    "print(\"Difference:\", a - b)\n",
    "print(\"Product:\", a * b)\n",
    "print(\"Division:\", a / b)\n",
    "print(\"Floor Division:\", a // b)\n",
    "print(\"Power:\", a ** b)\n",
    "print(\"Modulus:\", a % b)"
   ]
  },
  {
   "cell_type": "code",
   "execution_count": 7,
   "id": "6a6d50d9-2127-4102-8247-9b9aa65250f0",
   "metadata": {},
   "outputs": [
    {
     "name": "stdout",
     "output_type": "stream",
     "text": [
      "DATA SCIENCE\n",
      "data science\n",
      "Data\n",
      "Length: 12\n"
     ]
    }
   ],
   "source": [
    "msg = \"Data Science\"\n",
    "\n",
    "print(msg.upper())\n",
    "print(msg.lower())\n",
    "print(msg[0:4])   # slicing\n",
    "print(\"Length:\", len(msg))"
   ]
  },
  {
   "cell_type": "code",
   "execution_count": 8,
   "id": "63e94254-590b-40f2-9fc0-40e75f98693a",
   "metadata": {},
   "outputs": [
    {
     "name": "stdout",
     "output_type": "stream",
     "text": [
      "Swapped: 10 5\n",
      "Area of Circle: 153.93791\n",
      "17 is Odd\n"
     ]
    }
   ],
   "source": [
    "# 1. Swap two variables without using a third variable\n",
    "x, y = 5, 10\n",
    "x, y = y, x\n",
    "print(\"Swapped:\", x, y)\n",
    "\n",
    "# 2. Find the area of a circle (radius = 7)\n",
    "radius = 7\n",
    "area = 3.14159 * radius**2\n",
    "print(\"Area of Circle:\", area)\n",
    "\n",
    "# 3. Check if a number is even or odd\n",
    "num = 17\n",
    "if num % 2 == 0:\n",
    "    print(num, \"is Even\")\n",
    "else:\n",
    "    print(num, \"is Odd\")"
   ]
  },
  {
   "cell_type": "code",
   "execution_count": null,
   "id": "481baa19-0349-403e-8a68-0500e387ce7e",
   "metadata": {},
   "outputs": [],
   "source": []
  }
 ],
 "metadata": {
  "kernelspec": {
   "display_name": "Python 3 (ipykernel)",
   "language": "python",
   "name": "python3"
  },
  "language_info": {
   "codemirror_mode": {
    "name": "ipython",
    "version": 3
   },
   "file_extension": ".py",
   "mimetype": "text/x-python",
   "name": "python",
   "nbconvert_exporter": "python",
   "pygments_lexer": "ipython3",
   "version": "3.12.7"
  }
 },
 "nbformat": 4,
 "nbformat_minor": 5
}
