{
 "cells": [
  {
   "cell_type": "code",
   "execution_count": 1,
   "id": "9692f0d0-3c10-474f-9bf5-1da98dd21dc0",
   "metadata": {},
   "outputs": [
    {
     "name": "stdout",
     "output_type": "stream",
     "text": [
      "Hello Data Science 🚀\n"
     ]
    }
   ],
   "source": [
    "print(\"Hello Data Science 🚀\")"
   ]
  },
  {
   "cell_type": "code",
   "execution_count": null,
   "id": "f7f65168-576e-450f-86e9-1613219e2fe6",
   "metadata": {},
   "outputs": [],
   "source": []
  }
 ],
 "metadata": {
  "kernelspec": {
   "display_name": "Python 3 (ipykernel)",
   "language": "python",
   "name": "python3"
  },
  "language_info": {
   "codemirror_mode": {
    "name": "ipython",
    "version": 3
   },
   "file_extension": ".py",
   "mimetype": "text/x-python",
   "name": "python",
   "nbconvert_exporter": "python",
   "pygments_lexer": "ipython3",
   "version": "3.12.7"
  }
 },
 "nbformat": 4,
 "nbformat_minor": 5
}
