{
 "cells": [
  {
   "cell_type": "code",
   "execution_count": null,
   "id": "50d8c00a-7e3c-4c0d-9776-757e26c1789e",
   "metadata": {},
   "outputs": [],
   "source": []
  }
 ],
 "metadata": {
  "kernelspec": {
   "display_name": "",
   "name": ""
  },
  "language_info": {
   "name": ""
  }
 },
 "nbformat": 4,
 "nbformat_minor": 5
}
