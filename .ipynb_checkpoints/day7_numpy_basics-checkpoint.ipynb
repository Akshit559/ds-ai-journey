{
 "cells": [
  {
   "cell_type": "code",
   "execution_count": 1,
   "id": "b891f9e0-ac8c-4323-aaf2-eef8ce5c17a8",
   "metadata": {},
   "outputs": [],
   "source": [
    "import numpy as np"
   ]
  },
  {
   "cell_type": "code",
   "execution_count": 2,
   "id": "be3e3015-d004-4a8a-b70e-ea65b121c31c",
   "metadata": {},
   "outputs": [
    {
     "name": "stdout",
     "output_type": "stream",
     "text": [
      "[1 2 3 4 5]\n",
      "<class 'numpy.ndarray'>\n",
      "[[1 2 3]\n",
      " [4 5 6]]\n"
     ]
    }
   ],
   "source": [
    "# From a Python list\n",
    "arr = np.array([1, 2, 3, 4, 5])\n",
    "print(arr)\n",
    "print(type(arr))      # <class 'numpy.ndarray'>\n",
    "\n",
    "# Multi-dimensional array\n",
    "matrix = np.array([[1, 2, 3], [4, 5, 6]])\n",
    "print(matrix)"
   ]
  },
  {
   "cell_type": "code",
   "execution_count": 3,
   "id": "6cfca031-5c04-4de0-bec2-aa79c901eddc",
   "metadata": {},
   "outputs": [
    {
     "name": "stdout",
     "output_type": "stream",
     "text": [
      "[1 2 3 4 5]\n",
      "<class 'numpy.ndarray'>\n",
      "[[1 2 3]\n",
      " [4 5 6]]\n"
     ]
    }
   ],
   "source": [
    "import numpy as np\n",
    "\n",
    "# From a Python list\n",
    "arr = np.array([1, 2, 3, 4, 5])\n",
    "print(arr)\n",
    "print(type(arr))      # <class 'numpy.ndarray'>\n",
    "\n",
    "# Multi-dimensional array\n",
    "matrix = np.array([[1, 2, 3], [4, 5, 6]])\n",
    "print(matrix)\n"
   ]
  },
  {
   "cell_type": "code",
   "execution_count": 1,
   "id": "38d7bc0f-58e7-4526-8c2f-ade72bcf96fc",
   "metadata": {},
   "outputs": [
    {
     "ename": "NameError",
     "evalue": "name 'matrix' is not defined",
     "output_type": "error",
     "traceback": [
      "\u001b[1;31m---------------------------------------------------------------------------\u001b[0m",
      "\u001b[1;31mNameError\u001b[0m                                 Traceback (most recent call last)",
      "Cell \u001b[1;32mIn[1], line 1\u001b[0m\n\u001b[1;32m----> 1\u001b[0m \u001b[38;5;28mprint\u001b[39m(\u001b[38;5;124m\"\u001b[39m\u001b[38;5;124mShape:\u001b[39m\u001b[38;5;124m\"\u001b[39m, matrix\u001b[38;5;241m.\u001b[39mshape)\n\u001b[0;32m      2\u001b[0m \u001b[38;5;28mprint\u001b[39m(\u001b[38;5;124m\"\u001b[39m\u001b[38;5;124mSize:\u001b[39m\u001b[38;5;124m\"\u001b[39m, matrix\u001b[38;5;241m.\u001b[39msize)\n\u001b[0;32m      3\u001b[0m \u001b[38;5;28mprint\u001b[39m(\u001b[38;5;124m\"\u001b[39m\u001b[38;5;124mDimensions:\u001b[39m\u001b[38;5;124m\"\u001b[39m, matrix\u001b[38;5;241m.\u001b[39mndim)\n",
      "\u001b[1;31mNameError\u001b[0m: name 'matrix' is not defined"
     ]
    }
   ],
   "source": [
    "print(\"Shape:\", matrix.shape)\n",
    "print(\"Size:\", matrix.size)\n",
    "print(\"Dimensions:\", matrix.ndim)\n",
    "print(\"Data Type:\", matrix.dtype)\n"
   ]
  },
  {
   "cell_type": "code",
   "execution_count": 2,
   "id": "514ccf48-1e48-48d1-8f7e-f3f129a8582e",
   "metadata": {},
   "outputs": [
    {
     "name": "stdout",
     "output_type": "stream",
     "text": [
      "[1 2 3 4 5]\n",
      "<class 'numpy.ndarray'>\n",
      "[[1 2 3]\n",
      " [4 5 6]]\n",
      "Shape: (2, 3)\n",
      "Size: 6\n",
      "Dimensions: 2\n",
      "Data Type: int32\n"
     ]
    }
   ],
   "source": [
    "import numpy as np\n",
    "\n",
    "# From a Python list\n",
    "arr = np.array([1, 2, 3, 4, 5])\n",
    "print(arr)\n",
    "print(type(arr))      # <class 'numpy.ndarray'>\n",
    "\n",
    "# Multi-dimensional array\n",
    "matrix = np.array([[1, 2, 3], [4, 5, 6]])\n",
    "print(matrix)\n",
    "print(\"Shape:\", matrix.shape)\n",
    "print(\"Size:\", matrix.size)\n",
    "print(\"Dimensions:\", matrix.ndim)\n",
    "print(\"Data Type:\", matrix.dtype)\n"
   ]
  },
  {
   "cell_type": "code",
   "execution_count": 3,
   "id": "ef40ae15-747a-4ab0-b0e8-badc07dc1486",
   "metadata": {},
   "outputs": [
    {
     "name": "stdout",
     "output_type": "stream",
     "text": [
      "Zeros:\n",
      " [[0. 0. 0.]\n",
      " [0. 0. 0.]]\n",
      "Ones:\n",
      " [[1. 1.]\n",
      " [1. 1.]\n",
      " [1. 1.]]\n",
      "Range:\n",
      " [0 2 4 6 8]\n",
      "Random:\n",
      " [[26 92 69]\n",
      " [38 80 11]]\n"
     ]
    }
   ],
   "source": [
    "zeros = np.zeros((2, 3))\n",
    "ones = np.ones((3, 2))\n",
    "range_arr = np.arange(0, 10, 2)\n",
    "random_arr = np.random.randint(1, 100, (2, 3))\n",
    "\n",
    "print(\"Zeros:\\n\", zeros)\n",
    "print(\"Ones:\\n\", ones)\n",
    "print(\"Range:\\n\", range_arr)\n",
    "print(\"Random:\\n\", random_arr)\n"
   ]
  },
  {
   "cell_type": "code",
   "execution_count": 4,
   "id": "52e6bbb3-df20-45da-bcbd-cbdb7f3777e6",
   "metadata": {},
   "outputs": [
    {
     "name": "stdout",
     "output_type": "stream",
     "text": [
      "[11 22 33 44]\n",
      "[ 10  40  90 160]\n",
      "[ 1  4  9 16]\n",
      "2.5\n",
      "[3.16227766 4.47213595 5.47722558 6.32455532]\n"
     ]
    }
   ],
   "source": [
    "a = np.array([1, 2, 3, 4])\n",
    "b = np.array([10, 20, 30, 40])\n",
    "\n",
    "print(a + b)      # element-wise addition\n",
    "print(a * b)      # element-wise multiplication\n",
    "print(a ** 2)     # square each element\n",
    "print(a.mean())   # average\n",
    "print(np.sqrt(b)) # square root\n"
   ]
  },
  {
   "cell_type": "code",
   "execution_count": 5,
   "id": "0d2d14a6-5263-41af-9896-1490413a5005",
   "metadata": {},
   "outputs": [
    {
     "name": "stdout",
     "output_type": "stream",
     "text": [
      "[20 30 40]\n",
      "[10 20 30]\n",
      "[40 50]\n",
      "3\n",
      "[[5 6]\n",
      " [8 9]]\n"
     ]
    }
   ],
   "source": [
    "arr = np.array([10, 20, 30, 40, 50])\n",
    "print(arr[1:4])   # [20 30 40]\n",
    "print(arr[:3])    # [10 20 30]\n",
    "print(arr[-2:])   # [40 50]\n",
    "\n",
    "matrix = np.array([[1,2,3],[4,5,6],[7,8,9]])\n",
    "print(matrix[0, 2])     # single element → 3\n",
    "print(matrix[1:, 1:])   # sub-matrix\n"
   ]
  },
  {
   "cell_type": "code",
   "execution_count": 6,
   "id": "b837413d-c48d-45ff-8c5f-742622c815e9",
   "metadata": {},
   "outputs": [
    {
     "name": "stdout",
     "output_type": "stream",
     "text": [
      "List time: 0.0493\n",
      "NumPy time: 0.0167\n"
     ]
    }
   ],
   "source": [
    "import time\n",
    "\n",
    "# Python list\n",
    "my_list = list(range(1_000_000))\n",
    "start = time.time()\n",
    "result = [x * 2 for x in my_list]\n",
    "print(\"List time:\", round(time.time() - start, 4))\n",
    "\n",
    "# NumPy array\n",
    "my_array = np.arange(1_000_000)\n",
    "start = time.time()\n",
    "result = my_array * 2\n",
    "print(\"NumPy time:\", round(time.time() - start, 4))\n"
   ]
  },
  {
   "cell_type": "code",
   "execution_count": 7,
   "id": "1d8f875b-dd60-425b-9aab-a2de5210fe47",
   "metadata": {},
   "outputs": [
    {
     "name": "stdout",
     "output_type": "stream",
     "text": [
      "Mean: 30.0\n",
      "Median: 30.0\n",
      "Standard Deviation: 14.142135623730951\n",
      "Sum: 150\n",
      "Min: 10\n",
      "Max: 50\n"
     ]
    }
   ],
   "source": [
    "arr = np.array([10, 20, 30, 40, 50])\n",
    "\n",
    "print(\"Mean:\", np.mean(arr))\n",
    "print(\"Median:\", np.median(arr))\n",
    "print(\"Standard Deviation:\", np.std(arr))\n",
    "print(\"Sum:\", np.sum(arr))\n",
    "print(\"Min:\", np.min(arr))\n",
    "print(\"Max:\", np.max(arr))\n"
   ]
  },
  {
   "cell_type": "code",
   "execution_count": 9,
   "id": "2118aa70-9b22-44cb-8b52-1c421dceb281",
   "metadata": {},
   "outputs": [
    {
     "name": "stdout",
     "output_type": "stream",
     "text": [
      "Mean 50.0\n",
      "median 50.0\n",
      "standard deviation 28.577380332470412\n"
     ]
    }
   ],
   "source": [
    "arr= np.arange(1,100)\n",
    "print(\"Mean\", np.mean(arr))\n",
    "print(\"median\", np.median(arr))\n",
    "print(\"standard deviation\" , np.std(arr))"
   ]
  },
  {
   "cell_type": "code",
   "execution_count": 12,
   "id": "97719e8a-a105-41a9-9f25-b9f697281ace",
   "metadata": {},
   "outputs": [
    {
     "name": "stdout",
     "output_type": "stream",
     "text": [
      "max 76\n",
      "min 22\n"
     ]
    }
   ],
   "source": [
    "random_arr = np.random.randint(1, 100, (3, 3))\n",
    "print (\"max\", np.max(random_arr))\n",
    "print (\"min\", np.min(random_arr))"
   ]
  },
  {
   "cell_type": "code",
   "execution_count": null,
   "id": "10bdf936-9994-4182-966e-1dc86b119dc3",
   "metadata": {},
   "outputs": [],
   "source": []
  },
  {
   "cell_type": "code",
   "execution_count": null,
   "id": "440c2b32-a55e-4711-be38-b9e89947403f",
   "metadata": {},
   "outputs": [],
   "source": []
  }
 ],
 "metadata": {
  "kernelspec": {
   "display_name": "Python 3 (ipykernel)",
   "language": "python",
   "name": "python3"
  },
  "language_info": {
   "codemirror_mode": {
    "name": "ipython",
    "version": 3
   },
   "file_extension": ".py",
   "mimetype": "text/x-python",
   "name": "python",
   "nbconvert_exporter": "python",
   "pygments_lexer": "ipython3",
   "version": "3.12.7"
  }
 },
 "nbformat": 4,
 "nbformat_minor": 5
}
