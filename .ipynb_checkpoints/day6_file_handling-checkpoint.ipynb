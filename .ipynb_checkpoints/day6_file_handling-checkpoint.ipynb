{
 "cells": [
  {
   "cell_type": "code",
   "execution_count": 1,
   "id": "47042388-2856-4cf1-bf23-184d2e71dec0",
   "metadata": {},
   "outputs": [],
   "source": [
    "file = open(\"notes.txt\",\"w\")"
   ]
  },
  {
   "cell_type": "code",
   "execution_count": 2,
   "id": "8ea65239-ee7b-425f-87f5-83020dd62f2e",
   "metadata": {},
   "outputs": [
    {
     "name": "stdout",
     "output_type": "stream",
     "text": [
      "File written successfully!\n"
     ]
    }
   ],
   "source": [
    "file.write(\"Day 6 - Learning File Handling in Python\\n\")\n",
    "file.write(\"This is my first file write operation!\")\n",
    "file.close()\n",
    "\n",
    "print(\"File written successfully!\")"
   ]
  },
  {
   "cell_type": "code",
   "execution_count": 6,
   "id": "5aae6c53-d9d6-4712-894c-16547f6c4f24",
   "metadata": {},
   "outputs": [
    {
     "name": "stdout",
     "output_type": "stream",
     "text": [
      "📄 File Content:\n",
      " Day 6 - Learning File Handling in Python\n",
      "This is my first file write operation!\n",
      "Adding one more line using append mode.\n"
     ]
    }
   ],
   "source": [
    "file = open(\"notes.txt\", \"r\")\n",
    "content = file.read()\n",
    "file.close()\n",
    "\n",
    "print(\"📄 File Content:\\n\", content)\n"
   ]
  },
  {
   "cell_type": "code",
   "execution_count": 4,
   "id": "c4f9341d-a99b-4e98-8bc6-8bf1f035e3f8",
   "metadata": {},
   "outputs": [
    {
     "name": "stdout",
     "output_type": "stream",
     "text": [
      "Line added!\n"
     ]
    }
   ],
   "source": [
    "with open(\"notes.txt\", \"a\") as file:\n",
    "    file.write(\"\\nAdding one more line using append mode.\")\n",
    "\n",
    "print(\"Line added!\")\n"
   ]
  },
  {
   "cell_type": "code",
   "execution_count": 5,
   "id": "60863a1e-8739-4143-8629-91d79b2af8d3",
   "metadata": {},
   "outputs": [
    {
     "name": "stdout",
     "output_type": "stream",
     "text": [
      "Day 6 - Learning File Handling in Python\n",
      "This is my first file write operation!\n",
      "Adding one more line using append mode.\n"
     ]
    }
   ],
   "source": [
    "with open(\"notes.txt\", \"r\") as file:\n",
    "    for line in file:\n",
    "        print(line.strip())\n"
   ]
  },
  {
   "cell_type": "code",
   "execution_count": null,
   "id": "6344a798-9357-4803-a0b9-9efaeabeeb63",
   "metadata": {},
   "outputs": [],
   "source": []
  }
 ],
 "metadata": {
  "kernelspec": {
   "display_name": "Python 3 (ipykernel)",
   "language": "python",
   "name": "python3"
  },
  "language_info": {
   "codemirror_mode": {
    "name": "ipython",
    "version": 3
   },
   "file_extension": ".py",
   "mimetype": "text/x-python",
   "name": "python",
   "nbconvert_exporter": "python",
   "pygments_lexer": "ipython3",
   "version": "3.12.7"
  }
 },
 "nbformat": 4,
 "nbformat_minor": 5
}
