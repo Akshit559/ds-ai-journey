{
 "cells": [
  {
   "cell_type": "code",
   "execution_count": 1,
   "id": "5e364a46-3556-4106-8f1b-ef699f4cf74d",
   "metadata": {},
   "outputs": [
    {
     "name": "stdout",
     "output_type": "stream",
     "text": [
      "Akshit\n",
      "5000\n",
      "5000\n"
     ]
    }
   ],
   "source": [
    "# Encapsulation\n",
    "class BankAccount:\n",
    "    def __init__(self, owner, balance=0):\n",
    "        self.owner = owner        # public\n",
    "        self._balance = balance   # protected (convention)\n",
    "        self.__pin = 1234         # private\n",
    "\n",
    "    def deposit(self, amount):\n",
    "        self._balance += amount\n",
    "\n",
    "    def get_balance(self, pin):\n",
    "        if pin == self.__pin:\n",
    "            return self._balance\n",
    "        else:\n",
    "            return \"Access Denied!\"\n",
    "\n",
    "acc = BankAccount(\"Akshit\", 5000)\n",
    "print(acc.owner)              # ✅ Public\n",
    "print(acc._balance)           # ⚠️ Possible but not recommended\n",
    "# print(acc.__pin)            # ❌ Error (private)\n",
    "print(acc.get_balance(1234))  # ✅ Accessed with method\n"
   ]
  },
  {
   "cell_type": "code",
   "execution_count": 2,
   "id": "84afd0ac-6a02-4cb7-b2cc-385f7c5d750a",
   "metadata": {},
   "outputs": [
    {
     "name": "stdout",
     "output_type": "stream",
     "text": [
      "Tesla is starting...\n",
      "Tesla is driving...\n"
     ]
    }
   ],
   "source": [
    "# Single Inheritance \n",
    "class Vehicle:\n",
    "    def __init__(self, brand):\n",
    "        self.brand = brand\n",
    "\n",
    "    def start(self):\n",
    "        return f\"{self.brand} is starting...\"\n",
    "\n",
    "class Car(Vehicle):   # Car inherits from Vehicle\n",
    "    def drive(self):\n",
    "        return f\"{self.brand} is driving...\"\n",
    "\n",
    "c = Car(\"Tesla\")\n",
    "print(c.start())   # Tesla is starting...\n",
    "print(c.drive())   # Tesla is driving...\n"
   ]
  },
  {
   "cell_type": "code",
   "execution_count": 4,
   "id": "43f1eaaa-92b3-4e5c-9e78-19c3177138fe",
   "metadata": {},
   "outputs": [
    {
     "name": "stdout",
     "output_type": "stream",
     "text": [
      "I can eat\n",
      "I can walk\n",
      "Woof!\n"
     ]
    }
   ],
   "source": [
    "# Multilevel Inheritance\n",
    "class Animal:\n",
    "    def eat(self):\n",
    "        return \"I can eat\"\n",
    "\n",
    "class Mammal(Animal):\n",
    "    def walk(self):\n",
    "        return \"I can walk\"\n",
    "\n",
    "class Dog(Mammal):\n",
    "    def bark(self):\n",
    "        return \"Woof!\"\n",
    "\n",
    "d = Dog()\n",
    "print(d.eat())   # from Animal\n",
    "print(d.walk())  # from Mammal\n",
    "print(d.bark())  # from Dog\n"
   ]
  },
  {
   "cell_type": "code",
   "execution_count": 6,
   "id": "1bc06c9d-a513-431c-aa6b-a542064e173b",
   "metadata": {},
   "outputs": [
    {
     "name": "stdout",
     "output_type": "stream",
     "text": [
      "I can teach\n",
      "I can play sports\n",
      "I am a person with many skills\n"
     ]
    }
   ],
   "source": [
    "# Multiple Inheritance \n",
    "class Teacher:\n",
    "    def teach(self):\n",
    "        return \"I can teach\"\n",
    "\n",
    "class Athlete:\n",
    "    def play(self):\n",
    "        return \"I can play sports\"\n",
    "\n",
    "class Person(Teacher, Athlete):\n",
    "    def intro(self):\n",
    "        return \"I am a person with many skills\"\n",
    "\n",
    "p = Person()\n",
    "print(p.teach())   # from Teacher\n",
    "print(p.play())    # from Athlete\n",
    "print(p.intro())"
   ]
  },
  {
   "cell_type": "code",
   "execution_count": null,
   "id": "70e0218a-3b8a-44a1-ac00-68880ef69426",
   "metadata": {},
   "outputs": [],
   "source": []
  }
 ],
 "metadata": {
  "kernelspec": {
   "display_name": "Python 3 (ipykernel)",
   "language": "python",
   "name": "python3"
  },
  "language_info": {
   "codemirror_mode": {
    "name": "ipython",
    "version": 3
   },
   "file_extension": ".py",
   "mimetype": "text/x-python",
   "name": "python",
   "nbconvert_exporter": "python",
   "pygments_lexer": "ipython3",
   "version": "3.12.7"
  }
 },
 "nbformat": 4,
 "nbformat_minor": 5
}
