{
 "cells": [
  {
   "cell_type": "code",
   "execution_count": 1,
   "id": "be18133d-c3a0-472a-9879-904651cc4ffa",
   "metadata": {},
   "outputs": [
    {
     "name": "stdout",
     "output_type": "stream",
     "text": [
      "2020 Toyota Corolla\n",
      "2023 Tesla Model 3\n"
     ]
    }
   ],
   "source": [
    "class Car:\n",
    "    def __init__(self, brand, model, year):\n",
    "        self.brand = brand\n",
    "        self.model = model\n",
    "        self.year = year\n",
    "\n",
    "    def car_info(self):\n",
    "        return f\"{self.year} {self.brand} {self.model}\"\n",
    "\n",
    "# Create Car objects\n",
    "car1 = Car(\"Toyota\", \"Corolla\", 2020)\n",
    "car2 = Car(\"Tesla\", \"Model 3\", 2023)\n",
    "\n",
    "print(car1.car_info())   # 2020 Toyota Corolla\n",
    "print(car2.car_info())   # 2023 Tesla Model 3"
   ]
  },
  {
   "cell_type": "code",
   "execution_count": 18,
   "id": "ccb366bc-f2fa-409e-8b5f-31e4cf400e1f",
   "metadata": {},
   "outputs": [
    {
     "name": "stdout",
     "output_type": "stream",
     "text": [
      "Akshit : A\n",
      "Shubham : B\n",
      "Pragati : C\n"
     ]
    }
   ],
   "source": [
    "class Student:\n",
    "    def __init__ (self, name, marks):\n",
    "        self.name=name\n",
    "        self.marks=marks\n",
    "\n",
    "    def get_grade(self):\n",
    "        if( self.marks>=90): return \"A\"\n",
    "        elif(self.marks<90 and self.marks >=80) : return \"B\"\n",
    "        else: return \"C\"\n",
    "\n",
    "student1= Student(\"Akshit\", 95)\n",
    "student2= Student(\"Shubham\",85)\n",
    "student3= Student(\"Pragati\", 75)\n",
    "print(student1.name, \":\", student1.get_grade())  # Akshit : A\n",
    "print(student2.name, \":\", student2.get_grade())  # Shubham : B\n",
    "print(student3.name, \":\", student3.get_grade())"
   ]
  },
  {
   "cell_type": "code",
   "execution_count": 19,
   "id": "64c21d91-82aa-4fa5-9c42-730eb31043a1",
   "metadata": {},
   "outputs": [
    {
     "name": "stdout",
     "output_type": "stream",
     "text": [
      "Transferred 1500 to Shubham. Your new balance: 3500\n",
      "Akshit's Balance: 3500\n",
      "Shubham's Balance: 3500\n"
     ]
    }
   ],
   "source": [
    "class BankAccount:\n",
    "    bank_name = \"SBI\"   # class attribute (common to all accounts)\n",
    "\n",
    "    def __init__(self, owner, balance=0):\n",
    "        self.owner = owner\n",
    "        self.balance = balance\n",
    "\n",
    "    def deposit(self, amount):\n",
    "        self.balance += amount\n",
    "        return f\"{amount} deposited. New balance: {self.balance}\"\n",
    "\n",
    "    def withdraw(self, amount):\n",
    "        if amount <= self.balance:\n",
    "            self.balance -= amount\n",
    "            return f\"{amount} withdrawn. Remaining balance: {self.balance}\"\n",
    "        else:\n",
    "            return \"Insufficient balance!\"\n",
    "\n",
    "    def transfer(self, other_account, amount):\n",
    "        if amount <= self.balance:\n",
    "            self.balance -= amount\n",
    "            other_account.balance += amount\n",
    "            return f\"Transferred {amount} to {other_account.owner}. Your new balance: {self.balance}\"\n",
    "        else:\n",
    "            return \"Insufficient balance for transfer!\"\n",
    "\n",
    "# Test the class\n",
    "acc1 = BankAccount(\"Akshit\", 5000)\n",
    "acc2 = BankAccount(\"Shubham\", 2000)\n",
    "\n",
    "print(acc1.transfer(acc2, 1500))   # Akshit → Shubham\n",
    "print(\"Akshit's Balance:\", acc1.balance)  \n",
    "print(\"Shubham's Balance:\", acc2.balance)\n"
   ]
  },
  {
   "cell_type": "code",
   "execution_count": 20,
   "id": "91682651-3856-4151-a1e2-f085865b85a1",
   "metadata": {},
   "outputs": [
    {
     "name": "stdout",
     "output_type": "stream",
     "text": [
      "Employee: Akshit, Salary: 50000\n",
      "Manager: Riya, Dept: IT, Salary: 80000\n",
      "Leave approved for Shubham for 5 days ✅\n"
     ]
    }
   ],
   "source": [
    "# Base Class\n",
    "class Employee:\n",
    "    def __init__(self, name, salary):\n",
    "        self.name = name\n",
    "        self.salary = salary\n",
    "\n",
    "    def get_info(self):\n",
    "        return f\"Employee: {self.name}, Salary: {self.salary}\"\n",
    "\n",
    "# Derived Class\n",
    "class Manager(Employee):\n",
    "    def __init__(self, name, salary, department):\n",
    "        # Call parent constructor\n",
    "        super().__init__(name, salary)\n",
    "        self.department = department\n",
    "\n",
    "    def get_info(self):\n",
    "        return f\"Manager: {self.name}, Dept: {self.department}, Salary: {self.salary}\"\n",
    "\n",
    "    def approve_leave(self, employee_name, days):\n",
    "        return f\"Leave approved for {employee_name} for {days} days ✅\"\n",
    "\n",
    "# Testing\n",
    "emp1 = Employee(\"Akshit\", 50000)\n",
    "mgr1 = Manager(\"Riya\", 80000, \"IT\")\n",
    "\n",
    "print(emp1.get_info())  \n",
    "print(mgr1.get_info())  \n",
    "print(mgr1.approve_leave(\"Shubham\", 5))\n"
   ]
  },
  {
   "cell_type": "code",
   "execution_count": null,
   "id": "c1a79d13-aac3-4787-9c86-02d95e50da06",
   "metadata": {},
   "outputs": [],
   "source": []
  }
 ],
 "metadata": {
  "kernelspec": {
   "display_name": "Python 3 (ipykernel)",
   "language": "python",
   "name": "python3"
  },
  "language_info": {
   "codemirror_mode": {
    "name": "ipython",
    "version": 3
   },
   "file_extension": ".py",
   "mimetype": "text/x-python",
   "name": "python",
   "nbconvert_exporter": "python",
   "pygments_lexer": "ipython3",
   "version": "3.12.7"
  }
 },
 "nbformat": 4,
 "nbformat_minor": 5
}
