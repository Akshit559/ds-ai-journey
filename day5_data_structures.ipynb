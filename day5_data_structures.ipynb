{
 "cells": [
  {
   "cell_type": "code",
   "execution_count": 1,
   "id": "bdcccde3-7f89-449a-98b7-90e9aab741ab",
   "metadata": {},
   "outputs": [
    {
     "name": "stdout",
     "output_type": "stream",
     "text": [
      "Numbers: [12, 45, 67, 23, 89, 34, 56, 78, 90, 11]\n",
      "Maximum: 90\n",
      "Minimum: 11\n",
      "Average: 50.5\n"
     ]
    }
   ],
   "source": [
    "# List of 10 numbers\n",
    "numbers = [12, 45, 67, 23, 89, 34, 56, 78, 90, 11]\n",
    "\n",
    "def list_stats(num_list):\n",
    "    maximum = max(num_list)\n",
    "    minimum = min(num_list)\n",
    "    average = sum(num_list) / len(num_list)\n",
    "    return maximum, minimum, average\n",
    "\n",
    "# Call the function\n",
    "max_num, min_num, avg_num = list_stats(numbers)\n",
    "\n",
    "print(\"Numbers:\", numbers)\n",
    "print(\"Maximum:\", max_num)\n",
    "print(\"Minimum:\", min_num)\n",
    "print(\"Average:\", round(avg_num, 2))\n"
   ]
  },
  {
   "cell_type": "code",
   "execution_count": 2,
   "id": "01096f2e-c5f3-4bb2-9994-b3a0a87601e2",
   "metadata": {},
   "outputs": [
    {
     "name": "stdout",
     "output_type": "stream",
     "text": [
      "City 1: Delhi\n",
      "City 2: Mumbai\n",
      "City 3: Chennai\n",
      "City 4: Kolkata\n",
      "City 5: Bangalore\n"
     ]
    }
   ],
   "source": [
    "# Create a tuple\n",
    "cities = (\"Delhi\", \"Mumbai\", \"Chennai\", \"Kolkata\", \"Bangalore\")\n",
    "\n",
    "# Unpack into variables\n",
    "city1, city2, city3, city4, city5 = cities\n",
    "\n",
    "# Print each\n",
    "print(\"City 1:\", city1)\n",
    "print(\"City 2:\", city2)\n",
    "print(\"City 3:\", city3)\n",
    "print(\"City 4:\", city4)\n",
    "print(\"City 5:\", city5)\n"
   ]
  },
  {
   "cell_type": "code",
   "execution_count": 3,
   "id": "0db649ca-65a9-4223-b205-343148575ef8",
   "metadata": {},
   "outputs": [
    {
     "name": "stdout",
     "output_type": "stream",
     "text": [
      "Cricket Players: {'Akshit', 'Aman', 'Shubham', 'Pragati', 'Riya'}\n",
      "Football Players: {'Rahul', 'Neha', 'Shubham', 'Riya'}\n",
      "\n",
      "Players who play both games: {'Riya', 'Shubham'}\n",
      "Players who play only one game: {'Neha', 'Akshit', 'Aman', 'Rahul', 'Pragati'}\n"
     ]
    }
   ],
   "source": [
    "# Define two sets\n",
    "cricket_players = {\"Akshit\", \"Riya\", \"Aman\", \"Shubham\", \"Pragati\"}\n",
    "football_players = {\"Riya\", \"Shubham\", \"Rahul\", \"Neha\"}\n",
    "\n",
    "# 1. Students who play both games (intersection)\n",
    "both = cricket_players.intersection(football_players)\n",
    "\n",
    "# 2. Students who play only one game (symmetric difference)\n",
    "only_one = cricket_players.symmetric_difference(football_players)\n",
    "\n",
    "# Display results\n",
    "print(\"Cricket Players:\", cricket_players)\n",
    "print(\"Football Players:\", football_players)\n",
    "print(\"\\nPlayers who play both games:\", both)\n",
    "print(\"Players who play only one game:\", only_one)\n"
   ]
  },
  {
   "cell_type": "code",
   "execution_count": 4,
   "id": "73eba526-858d-4f2b-865d-bae0eb514566",
   "metadata": {},
   "outputs": [
    {
     "name": "stdout",
     "output_type": "stream",
     "text": [
      "All Students and Marks:\n",
      "Akshit: 88\n",
      "Riya: 92\n",
      "Shubham: 76\n",
      "Pragati: 95\n",
      "Aman: 81\n",
      "\n",
      "Topper: Pragati\n",
      "Highest Marks: 95\n"
     ]
    }
   ],
   "source": [
    "# Create a dictionary\n",
    "students = {\n",
    "    \"Akshit\": 88,\n",
    "    \"Riya\": 92,\n",
    "    \"Shubham\": 76,\n",
    "    \"Pragati\": 95,\n",
    "    \"Aman\": 81\n",
    "}\n",
    "\n",
    "# Find student with highest marks\n",
    "topper = max(students, key=students.get)\n",
    "\n",
    "print(\"All Students and Marks:\")\n",
    "for name, marks in students.items():\n",
    "    print(f\"{name}: {marks}\")\n",
    "\n",
    "print(\"\\nTopper:\", topper)\n",
    "print(\"Highest Marks:\", students[topper])\n"
   ]
  },
  {
   "cell_type": "code",
   "execution_count": 5,
   "id": "49024ef0-5755-41b8-970b-30687682372b",
   "metadata": {},
   "outputs": [
    {
     "name": "stdout",
     "output_type": "stream",
     "text": [
      "🛍️ Shopping Cart:\n",
      "Milk: ₹50\n",
      "Bread: ₹40\n",
      "Eggs: ₹70\n",
      "Butter: ₹120\n",
      "Juice: ₹80\n",
      "\n",
      "Total Bill: ₹ 360\n"
     ]
    }
   ],
   "source": [
    "# Shopping cart dictionary\n",
    "cart = {\n",
    "    \"Milk\": 50,\n",
    "    \"Bread\": 40,\n",
    "    \"Eggs\": 70,\n",
    "    \"Butter\": 120,\n",
    "    \"Juice\": 80\n",
    "}\n",
    "\n",
    "# Calculate total bill\n",
    "total = sum(cart.values())\n",
    "\n",
    "# Print items and total\n",
    "print(\"🛍️ Shopping Cart:\")\n",
    "for item, price in cart.items():\n",
    "    print(f\"{item}: ₹{price}\")\n",
    "\n",
    "print(\"\\nTotal Bill: ₹\", total)\n"
   ]
  },
  {
   "cell_type": "code",
   "execution_count": null,
   "id": "4eda4a77-55aa-4e06-aca5-95e31560fb5a",
   "metadata": {},
   "outputs": [],
   "source": []
  }
 ],
 "metadata": {
  "kernelspec": {
   "display_name": "Python 3 (ipykernel)",
   "language": "python",
   "name": "python3"
  },
  "language_info": {
   "codemirror_mode": {
    "name": "ipython",
    "version": 3
   },
   "file_extension": ".py",
   "mimetype": "text/x-python",
   "name": "python",
   "nbconvert_exporter": "python",
   "pygments_lexer": "ipython3",
   "version": "3.12.7"
  }
 },
 "nbformat": 4,
 "nbformat_minor": 5
}
